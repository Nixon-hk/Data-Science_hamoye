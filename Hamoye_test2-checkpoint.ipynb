{
 "cells": [
  {
   "cell_type": "code",
   "execution_count": 2,
   "id": "aa6abcc5-7211-4505-8841-5418dbc0203d",
   "metadata": {
    "tags": []
   },
   "outputs": [],
   "source": [
    "import pandas as pd"
   ]
  },
  {
   "cell_type": "code",
   "execution_count": 3,
   "id": "d53068c5-15e9-4c00-9065-9c101c29c088",
   "metadata": {
    "tags": []
   },
   "outputs": [],
   "source": [
    "file_path = r'C:\\Users\\User\\Downloads\\energydata_complete.csv'\n",
    "\n",
    "df = pd.read_csv(file_path, encoding='latin-1')"
   ]
  },
  {
   "cell_type": "code",
   "execution_count": 4,
   "id": "cf9e294a-b4d8-4879-9c61-c644eee86d4c",
   "metadata": {
    "tags": []
   },
   "outputs": [
    {
     "name": "stdout",
     "output_type": "stream",
     "text": [
      "                  date  Appliances  lights     T1       RH_1    T2       RH_2   \n",
      "0  2016-01-11 17:00:00          60      30  19.89  47.596667  19.2  44.790000  \\\n",
      "1  2016-01-11 17:10:00          60      30  19.89  46.693333  19.2  44.722500   \n",
      "2  2016-01-11 17:20:00          50      30  19.89  46.300000  19.2  44.626667   \n",
      "3  2016-01-11 17:30:00          50      40  19.89  46.066667  19.2  44.590000   \n",
      "4  2016-01-11 17:40:00          60      40  19.89  46.333333  19.2  44.530000   \n",
      "\n",
      "      T3       RH_3         T4  ...         T9   RH_9     T_out  Press_mm_hg   \n",
      "0  19.79  44.730000  19.000000  ...  17.033333  45.53  6.600000        733.5  \\\n",
      "1  19.79  44.790000  19.000000  ...  17.066667  45.56  6.483333        733.6   \n",
      "2  19.79  44.933333  18.926667  ...  17.000000  45.50  6.366667        733.7   \n",
      "3  19.79  45.000000  18.890000  ...  17.000000  45.40  6.250000        733.8   \n",
      "4  19.79  45.000000  18.890000  ...  17.000000  45.40  6.133333        733.9   \n",
      "\n",
      "   RH_out  Windspeed  Visibility  Tdewpoint        rv1        rv2  \n",
      "0    92.0   7.000000   63.000000        5.3  13.275433  13.275433  \n",
      "1    92.0   6.666667   59.166667        5.2  18.606195  18.606195  \n",
      "2    92.0   6.333333   55.333333        5.1  28.642668  28.642668  \n",
      "3    92.0   6.000000   51.500000        5.0  45.410389  45.410389  \n",
      "4    92.0   5.666667   47.666667        4.9  10.084097  10.084097  \n",
      "\n",
      "[5 rows x 29 columns]\n"
     ]
    }
   ],
   "source": [
    "print(df.head())"
   ]
  },
  {
   "cell_type": "code",
   "execution_count": 5,
   "id": "58840cec-156e-40d2-827f-ecfbf31989d7",
   "metadata": {
    "tags": []
   },
   "outputs": [
    {
     "data": {
      "text/plain": [
       "date           0\n",
       "Appliances     0\n",
       "lights         0\n",
       "T1             0\n",
       "RH_1           0\n",
       "T2             0\n",
       "RH_2           0\n",
       "T3             0\n",
       "RH_3           0\n",
       "T4             0\n",
       "RH_4           0\n",
       "T5             0\n",
       "RH_5           0\n",
       "T6             0\n",
       "RH_6           0\n",
       "T7             0\n",
       "RH_7           0\n",
       "T8             0\n",
       "RH_8           0\n",
       "T9             0\n",
       "RH_9           0\n",
       "T_out          0\n",
       "Press_mm_hg    0\n",
       "RH_out         0\n",
       "Windspeed      0\n",
       "Visibility     0\n",
       "Tdewpoint      0\n",
       "rv1            0\n",
       "rv2            0\n",
       "dtype: int64"
      ]
     },
     "execution_count": 5,
     "metadata": {},
     "output_type": "execute_result"
    }
   ],
   "source": [
    "df.isnull().sum()"
   ]
  },
  {
   "cell_type": "code",
   "execution_count": 7,
   "id": "b1b54534-db84-45b0-a0ba-eb1fe9ae8a9a",
   "metadata": {
    "tags": []
   },
   "outputs": [
    {
     "name": "stdout",
     "output_type": "stream",
     "text": [
      "Collecting scikit-learn\n",
      "  Downloading scikit_learn-1.4.2-cp310-cp310-win_amd64.whl.metadata (11 kB)\n",
      "Requirement already satisfied: numpy>=1.19.5 in c:\\users\\user\\appdata\\local\\programs\\python\\python310\\lib\\site-packages (from scikit-learn) (1.24.2)\n",
      "Collecting scipy>=1.6.0 (from scikit-learn)\n",
      "  Downloading scipy-1.13.0-cp310-cp310-win_amd64.whl.metadata (60 kB)\n",
      "     ---------------------------------------- 0.0/60.6 kB ? eta -:--:--\n",
      "     ------ --------------------------------- 10.2/60.6 kB ? eta -:--:--\n",
      "     ------ --------------------------------- 10.2/60.6 kB ? eta -:--:--\n",
      "     ------------------- ------------------ 30.7/60.6 kB 262.6 kB/s eta 0:00:01\n",
      "     -------------------------------------- 60.6/60.6 kB 359.6 kB/s eta 0:00:00\n",
      "Requirement already satisfied: joblib>=1.2.0 in c:\\users\\user\\appdata\\local\\programs\\python\\python310\\lib\\site-packages (from scikit-learn) (1.2.0)\n",
      "Collecting threadpoolctl>=2.0.0 (from scikit-learn)\n",
      "  Downloading threadpoolctl-3.5.0-py3-none-any.whl.metadata (13 kB)\n",
      "Downloading scikit_learn-1.4.2-cp310-cp310-win_amd64.whl (10.6 MB)\n",
      "   ---------------------------------------- 0.0/10.6 MB ? eta -:--:--\n",
      "   ---------------------------------------- 0.0/10.6 MB 991.0 kB/s eta 0:00:11\n",
      "   ---------------------------------------- 0.1/10.6 MB 1.1 MB/s eta 0:00:10\n",
      "   ---------------------------------------- 0.1/10.6 MB 1.0 MB/s eta 0:00:11\n",
      "    --------------------------------------- 0.2/10.6 MB 952.6 kB/s eta 0:00:11\n",
      "   - -------------------------------------- 0.3/10.6 MB 1.4 MB/s eta 0:00:08\n",
      "   - -------------------------------------- 0.4/10.6 MB 1.5 MB/s eta 0:00:07\n",
      "   -- ------------------------------------- 0.6/10.6 MB 1.8 MB/s eta 0:00:06\n",
      "   -- ------------------------------------- 0.8/10.6 MB 2.2 MB/s eta 0:00:05\n",
      "   ---- ----------------------------------- 1.1/10.6 MB 2.7 MB/s eta 0:00:04\n",
      "   ----- ---------------------------------- 1.5/10.6 MB 3.3 MB/s eta 0:00:03\n",
      "   ------- -------------------------------- 1.9/10.6 MB 3.9 MB/s eta 0:00:03\n",
      "   --------- ------------------------------ 2.4/10.6 MB 4.7 MB/s eta 0:00:02\n",
      "   ------------ --------------------------- 3.2/10.6 MB 5.6 MB/s eta 0:00:02\n",
      "   -------------- ------------------------- 3.7/10.6 MB 5.9 MB/s eta 0:00:02\n",
      "   --------------- ------------------------ 4.0/10.6 MB 6.4 MB/s eta 0:00:02\n",
      "   ----------------- ---------------------- 4.6/10.6 MB 6.4 MB/s eta 0:00:01\n",
      "   ---------------------- ----------------- 6.0/10.6 MB 8.0 MB/s eta 0:00:01\n",
      "   ------------------------- -------------- 6.7/10.6 MB 8.5 MB/s eta 0:00:01\n",
      "   ------------------------- -------------- 6.9/10.6 MB 8.1 MB/s eta 0:00:01\n",
      "   --------------------------- ------------ 7.3/10.6 MB 8.2 MB/s eta 0:00:01\n",
      "   ----------------------------- ---------- 7.9/10.6 MB 8.5 MB/s eta 0:00:01\n",
      "   --------------------------------- ------ 8.9/10.6 MB 9.0 MB/s eta 0:00:01\n",
      "   -------------------------------------- - 10.3/10.6 MB 10.1 MB/s eta 0:00:01\n",
      "   -------------------------------------- - 10.3/10.6 MB 10.2 MB/s eta 0:00:01\n",
      "   -------------------------------------- - 10.3/10.6 MB 10.2 MB/s eta 0:00:01\n",
      "   ---------------------------------------  10.6/10.6 MB 11.5 MB/s eta 0:00:01\n",
      "   ---------------------------------------  10.6/10.6 MB 11.5 MB/s eta 0:00:01\n",
      "   ---------------------------------------- 10.6/10.6 MB 10.2 MB/s eta 0:00:00\n",
      "Downloading scipy-1.13.0-cp310-cp310-win_amd64.whl (46.2 MB)\n",
      "   ---------------------------------------- 0.0/46.2 MB ? eta -:--:--\n",
      "    --------------------------------------- 0.7/46.2 MB 15.0 MB/s eta 0:00:04\n",
      "   - -------------------------------------- 1.5/46.2 MB 19.2 MB/s eta 0:00:03\n",
      "   -- ------------------------------------- 2.5/46.2 MB 19.7 MB/s eta 0:00:03\n",
      "   -- ------------------------------------- 3.4/46.2 MB 19.5 MB/s eta 0:00:03\n",
      "   -- ------------------------------------- 3.4/46.2 MB 19.5 MB/s eta 0:00:03\n",
      "   --- ------------------------------------ 3.9/46.2 MB 14.5 MB/s eta 0:00:03\n",
      "   ---- ----------------------------------- 5.4/46.2 MB 16.4 MB/s eta 0:00:03\n",
      "   ------ --------------------------------- 7.3/46.2 MB 20.3 MB/s eta 0:00:02\n",
      "   ------ --------------------------------- 8.1/46.2 MB 19.8 MB/s eta 0:00:02\n",
      "   ------- -------------------------------- 8.6/46.2 MB 19.6 MB/s eta 0:00:02\n",
      "   -------- ------------------------------- 9.7/46.2 MB 19.5 MB/s eta 0:00:02\n",
      "   -------- ------------------------------- 10.3/46.2 MB 20.5 MB/s eta 0:00:02\n",
      "   --------- ------------------------------ 11.3/46.2 MB 19.8 MB/s eta 0:00:02\n",
      "   ---------- ----------------------------- 11.8/46.2 MB 18.7 MB/s eta 0:00:02\n",
      "   ----------- ---------------------------- 13.2/46.2 MB 19.3 MB/s eta 0:00:02\n",
      "   ------------ --------------------------- 14.2/46.2 MB 22.6 MB/s eta 0:00:02\n",
      "   ------------ --------------------------- 14.3/46.2 MB 21.9 MB/s eta 0:00:02\n",
      "   ------------ --------------------------- 14.3/46.2 MB 21.9 MB/s eta 0:00:02\n",
      "   ------------ --------------------------- 14.4/46.2 MB 18.2 MB/s eta 0:00:02\n",
      "   ------------- -------------------------- 15.3/46.2 MB 16.8 MB/s eta 0:00:02\n",
      "   ------------- -------------------------- 16.1/46.2 MB 16.0 MB/s eta 0:00:02\n",
      "   ------------- -------------------------- 16.1/46.2 MB 16.0 MB/s eta 0:00:02\n",
      "   -------------- ------------------------- 17.0/46.2 MB 14.2 MB/s eta 0:00:03\n",
      "   -------------- ------------------------- 17.2/46.2 MB 13.6 MB/s eta 0:00:03\n",
      "   ---------------- ----------------------- 18.6/46.2 MB 14.6 MB/s eta 0:00:02\n",
      "   ----------------- ---------------------- 19.8/46.2 MB 14.2 MB/s eta 0:00:02\n",
      "   ----------------- ---------------------- 20.5/46.2 MB 13.9 MB/s eta 0:00:02\n",
      "   ------------------ --------------------- 21.2/46.2 MB 13.6 MB/s eta 0:00:02\n",
      "   ------------------- -------------------- 22.0/46.2 MB 14.6 MB/s eta 0:00:02\n",
      "   ------------------- -------------------- 23.1/46.2 MB 14.2 MB/s eta 0:00:02\n",
      "   -------------------- ------------------- 23.1/46.2 MB 14.2 MB/s eta 0:00:02\n",
      "   -------------------- ------------------- 23.1/46.2 MB 14.2 MB/s eta 0:00:02\n",
      "   -------------------- ------------------- 23.7/46.2 MB 12.4 MB/s eta 0:00:02\n",
      "   -------------------- ------------------- 24.0/46.2 MB 11.7 MB/s eta 0:00:02\n",
      "   --------------------- ------------------ 25.4/46.2 MB 14.6 MB/s eta 0:00:02\n",
      "   ---------------------- ----------------- 25.7/46.2 MB 13.9 MB/s eta 0:00:02\n",
      "   ---------------------- ----------------- 26.1/46.2 MB 13.9 MB/s eta 0:00:02\n",
      "   ----------------------- ---------------- 27.2/46.2 MB 14.2 MB/s eta 0:00:02\n",
      "   ------------------------ --------------- 28.7/46.2 MB 14.9 MB/s eta 0:00:02\n",
      "   ------------------------ --------------- 28.9/46.2 MB 14.9 MB/s eta 0:00:02\n",
      "   ------------------------- -------------- 29.7/46.2 MB 14.2 MB/s eta 0:00:02\n",
      "   -------------------------- ------------- 30.6/46.2 MB 14.9 MB/s eta 0:00:02\n",
      "   --------------------------- ------------ 32.0/46.2 MB 15.6 MB/s eta 0:00:01\n",
      "   ---------------------------- ----------- 32.9/46.2 MB 15.2 MB/s eta 0:00:01\n",
      "   ----------------------------- ---------- 33.8/46.2 MB 18.7 MB/s eta 0:00:01\n",
      "   ----------------------------- ---------- 34.5/46.2 MB 18.7 MB/s eta 0:00:01\n",
      "   ------------------------------ --------- 35.0/46.2 MB 17.7 MB/s eta 0:00:01\n",
      "   ------------------------------ --------- 35.4/46.2 MB 16.8 MB/s eta 0:00:01\n",
      "   ------------------------------- -------- 36.1/46.2 MB 18.7 MB/s eta 0:00:01\n",
      "   ------------------------------- -------- 36.5/46.2 MB 17.7 MB/s eta 0:00:01\n",
      "   -------------------------------- ------- 37.9/46.2 MB 17.7 MB/s eta 0:00:01\n",
      "   --------------------------------- ------ 39.2/46.2 MB 19.3 MB/s eta 0:00:01\n",
      "   ---------------------------------- ----- 39.7/46.2 MB 18.7 MB/s eta 0:00:01\n",
      "   ---------------------------------- ----- 40.1/46.2 MB 18.2 MB/s eta 0:00:01\n",
      "   ----------------------------------- ---- 40.6/46.2 MB 16.8 MB/s eta 0:00:01\n",
      "   ----------------------------------- ---- 41.5/46.2 MB 16.8 MB/s eta 0:00:01\n",
      "   ------------------------------------ --- 42.3/46.2 MB 16.4 MB/s eta 0:00:01\n",
      "   ------------------------------------- -- 43.2/46.2 MB 16.4 MB/s eta 0:00:01\n",
      "   -------------------------------------- - 44.0/46.2 MB 16.0 MB/s eta 0:00:01\n",
      "   -------------------------------------- - 44.5/46.2 MB 15.2 MB/s eta 0:00:01\n",
      "   ---------------------------------------  46.0/46.2 MB 17.7 MB/s eta 0:00:01\n",
      "   ---------------------------------------  46.2/46.2 MB 17.2 MB/s eta 0:00:01\n",
      "   ---------------------------------------  46.2/46.2 MB 17.2 MB/s eta 0:00:01\n",
      "   ---------------------------------------  46.2/46.2 MB 14.5 MB/s eta 0:00:01\n",
      "   ---------------------------------------  46.2/46.2 MB 14.5 MB/s eta 0:00:01\n",
      "   ---------------------------------------- 46.2/46.2 MB 12.8 MB/s eta 0:00:00\n",
      "Downloading threadpoolctl-3.5.0-py3-none-any.whl (18 kB)\n",
      "Installing collected packages: threadpoolctl, scipy, scikit-learn\n",
      "Successfully installed scikit-learn-1.4.2 scipy-1.13.0 threadpoolctl-3.5.0\n"
     ]
    }
   ],
   "source": [
    "!pip install scikit-learn"
   ]
  },
  {
   "cell_type": "code",
   "execution_count": 38,
   "id": "819433f8-5421-4389-978f-0fa93b689497",
   "metadata": {
    "tags": []
   },
   "outputs": [],
   "source": [
    "from sklearn.model_selection import train_test_split\n",
    "from sklearn.linear_model import LinearRegression\n",
    "from sklearn.metrics import mean_squared_error\n",
    "from sklearn.preprocessing import MinMaxScaler\n",
    "from sklearn.metrics import mean_squared_error, mean_absolute_error\n",
    "from sklearn.linear_model import Ridge\n",
    "from sklearn.linear_model import Lasso\n",
    "import numpy as np\n"
   ]
  },
  {
   "cell_type": "code",
   "execution_count": 11,
   "id": "edbb3d5d-a839-4f36-b103-4854836808ec",
   "metadata": {
    "tags": []
   },
   "outputs": [
    {
     "name": "stdout",
     "output_type": "stream",
     "text": [
      "Root Mean Squared Error (RMSE): 3.644\n"
     ]
    }
   ],
   "source": [
    "# Selecting features (T2) and target (T6)\n",
    "X = df[['T2']]  # Feature: Temperature in the living room (T2)\n",
    "y = df['T6']    # Target: Temperature outside (T6)\n",
    "\n",
    "# Creating the linear regression model\n",
    "model = LinearRegression()\n",
    "\n",
    "# Fitting the model to the entire dataset\n",
    "model.fit(X, y)\n",
    "\n",
    "# Making predictions on the entire dataset\n",
    "y_pred = model.predict(X)\n",
    "\n",
    "# Calculating RMSE\n",
    "rmse = np.sqrt(mean_squared_error(y, y_pred))\n",
    "\n",
    "# Print RMSE rounded to three decimal places\n",
    "print(f\"Root Mean Squared Error (RMSE): {rmse:.3f}\")"
   ]
  },
  {
   "cell_type": "code",
   "execution_count": 13,
   "id": "698aa875-9301-4a1e-a03a-55fba0225b17",
   "metadata": {
    "tags": []
   },
   "outputs": [],
   "source": [
    "# Removing 'date' and 'lights' columns\n",
    "df = df.drop(columns=['date', 'lights'])"
   ]
  },
  {
   "cell_type": "code",
   "execution_count": 14,
   "id": "fd618599-a720-44be-a943-fbc08f436e3c",
   "metadata": {
    "tags": []
   },
   "outputs": [],
   "source": [
    "# Setting 'Appliances' as the target variable\n",
    "X = df.drop('Appliances', axis=1)\n",
    "y = df['Appliances']\n",
    "\n",
    "# Splitting the data into training and testing sets\n",
    "X_train, X_test, y_train, y_test = train_test_split(X, y, test_size=0.3, random_state=42)\n",
    "\n"
   ]
  },
  {
   "cell_type": "code",
   "execution_count": 25,
   "id": "df703019-0b45-42f1-b8a9-252c13bbaaaf",
   "metadata": {
    "tags": []
   },
   "outputs": [
    {
     "name": "stdout",
     "output_type": "stream",
     "text": [
      "Mean Absolute Error (MAE) on the Training Set: 53.742\n"
     ]
    }
   ],
   "source": [
    "# Normalizing the dataset with MinMaxScaler\n",
    "scaler = MinMaxScaler()\n",
    "X_train_scaled = scaler.fit_transform(X_train)\n",
    "X_test_scaled = scaler.transform(X_test)\n",
    "\n",
    "# Creating and fitting the linear regression model\n",
    "model = LinearRegression()\n",
    "model.fit(X_train_scaled, y_train)\n",
    "\n",
    "# Making predictions on the training set\n",
    "y_train_pred = model.predict(X_train_scaled)\n",
    "\n",
    "# Calculating Mean Absolute Error (MAE) for the training set\n",
    "mae_train = mean_absolute_error(y_train, y_train_pred)\n",
    "\n",
    "# Print MAE rounded to three decimal places\n",
    "print(f\"Mean Absolute Error (MAE) on the Training Set: {mae_train:.3f}\")"
   ]
  },
  {
   "cell_type": "code",
   "execution_count": 28,
   "id": "ba2a96ed-4a4a-4cd6-9f90-8975ab3ac01c",
   "metadata": {
    "tags": []
   },
   "outputs": [
    {
     "name": "stdout",
     "output_type": "stream",
     "text": [
      "Root Mean Squared Error (RMSE): 93.641\n"
     ]
    }
   ],
   "source": [
    "rmse = np.sqrt(mean_squared_error(y_test, y_pred))\n",
    "# Print RMSE rounded to three decimal places\n",
    "print(f\"Root Mean Squared Error (RMSE): {rmse:.3f}\")"
   ]
  },
  {
   "cell_type": "code",
   "execution_count": 29,
   "id": "9f096620-6bba-4394-9c12-0d497aaca33e",
   "metadata": {
    "tags": []
   },
   "outputs": [
    {
     "name": "stdout",
     "output_type": "stream",
     "text": [
      "Root Mean Squared Error (RMSE) on the Training Set: 95.216\n"
     ]
    }
   ],
   "source": [
    "# Calculating Root Mean Squared Error (RMSE) for the training set\n",
    "rmse_train = np.sqrt(mean_squared_error(y_train, y_train_pred))\n",
    "\n",
    "# Print RMSE rounded to three decimal places\n",
    "print(f\"Root Mean Squared Error (RMSE) on the Training Set: {rmse_train:.3f}\")"
   ]
  },
  {
   "cell_type": "code",
   "execution_count": 33,
   "id": "9c502628-f1d9-4f89-86be-cc75c605ce82",
   "metadata": {
    "tags": []
   },
   "outputs": [
    {
     "name": "stdout",
     "output_type": "stream",
     "text": [
      "Mean Absolute Error (MAE) on the Test Set: 53.643\n"
     ]
    }
   ],
   "source": [
    "# Normalizing the dataset with MinMaxScaler\n",
    "scaler = MinMaxScaler()\n",
    "X_train_scaled = scaler.fit_transform(X_train)\n",
    "X_test_scaled = scaler.transform(X_test)\n",
    "\n",
    "# Creating and fitting the linear regression model\n",
    "model = LinearRegression()\n",
    "model.fit(X_train_scaled, y_train)\n",
    "\n",
    "# Making predictions on the test set\n",
    "y_test_pred = model.predict(X_test_scaled)\n",
    "\n",
    "# Calculating Mean Absolute Error (MAE) for the test set\n",
    "mae_test = mean_absolute_error(y_test, y_test_pred)\n",
    "\n",
    "# Print MAE rounded to three decimal places\n",
    "print(f\"Mean Absolute Error (MAE) on the Test Set: {mae_test:.3f}\")"
   ]
  },
  {
   "cell_type": "code",
   "execution_count": 34,
   "id": "cf208007-4c22-437a-ae85-be70f7c58b1f",
   "metadata": {
    "tags": []
   },
   "outputs": [
    {
     "name": "stdout",
     "output_type": "stream",
     "text": [
      "Root Mean Squared Error (RMSE) on the Test Set: 93.641\n"
     ]
    }
   ],
   "source": [
    "# Making predictions on the test set\n",
    "y_test_pred = model.predict(X_test_scaled)\n",
    "\n",
    "# Calculating Root Mean Squared Error (RMSE) for the test set\n",
    "rmse_test = np.sqrt(mean_squared_error(y_test, y_test_pred))\n",
    "\n",
    "# Print RMSE rounded to three decimal places\n",
    "print(f\"Root Mean Squared Error (RMSE) on the Test Set: {rmse_test:.3f}\")"
   ]
  },
  {
   "cell_type": "code",
   "execution_count": 37,
   "id": "9f31ff9b-18bf-47ce-a82a-19ea777e9377",
   "metadata": {
    "tags": []
   },
   "outputs": [
    {
     "name": "stdout",
     "output_type": "stream",
     "text": [
      "Root Mean Squared Error (RMSE) on the Test Set: 93.709\n"
     ]
    }
   ],
   "source": [
    "# Creating and fitting the Ridge regression model with default parameters\n",
    "ridge_model = Ridge()\n",
    "ridge_model.fit(X_train_scaled, y_train)\n",
    "\n",
    "# Making predictions on the test set\n",
    "y_test_pred = ridge_model.predict(X_test_scaled)\n",
    "\n",
    "# Calculating Root Mean Squared Error (RMSE) for the test set\n",
    "rmse_test = np.sqrt(mean_squared_error(y_test, y_test_pred))\n",
    "\n",
    "# Print RMSE rounded to three decimal places\n",
    "print(f\"Root Mean Squared Error (RMSE) on the Test Set: {rmse_test:.3f}\")"
   ]
  },
  {
   "cell_type": "code",
   "execution_count": 39,
   "id": "02636b6e-b739-4683-9885-f59b76471531",
   "metadata": {
    "tags": []
   },
   "outputs": [
    {
     "name": "stdout",
     "output_type": "stream",
     "text": [
      "Coefficients: [  0.          56.94451601   0.          -0.           0.\n",
      "   0.          -0.           0.          -0.           0.\n",
      "   0.          -0.          -0.          -0.           0.\n",
      " -26.10288797  -0.          -0.           0.          -0.\n",
      " -50.29397595   5.14314792   0.          -0.          -0.\n",
      "  -0.        ]\n",
      "Number of features with non-zero weights: 4\n"
     ]
    }
   ],
   "source": [
    "# Creating and fitting the Lasso regression model with default parameters\n",
    "lasso_model = Lasso()\n",
    "lasso_model.fit(X_train_scaled, y_train)\n",
    "\n",
    "# Retrieving the model coefficients\n",
    "coefficients = lasso_model.coef_\n",
    "\n",
    "# Counting non-zero coefficients\n",
    "non_zero_weights = np.sum(coefficients != 0)\n",
    "\n",
    "# Print the coefficients and the count of non-zero weights\n",
    "print(\"Coefficients:\", coefficients)\n",
    "print(\"Number of features with non-zero weights:\", non_zero_weights)"
   ]
  },
  {
   "cell_type": "code",
   "execution_count": 41,
   "id": "6d3748be-4da2-46d7-b986-648c86a4ab90",
   "metadata": {
    "tags": []
   },
   "outputs": [
    {
     "name": "stdout",
     "output_type": "stream",
     "text": [
      "Root Mean Squared Error (RMSE) on the Test Set with Lasso Regression: 99.424\n"
     ]
    }
   ],
   "source": [
    "# Making predictions on the test set\n",
    "y_test_pred = lasso_model.predict(X_test_scaled)\n",
    "\n",
    "# Calculating Root Mean Squared Error (RMSE) for the test set\n",
    "rmse_test = np.sqrt(mean_squared_error(y_test, y_test_pred))\n",
    "\n",
    "# Print RMSE rounded to three decimal places\n",
    "print(f\"Root Mean Squared Error (RMSE) on the Test Set with Lasso Regression: {rmse_test:.3f}\")"
   ]
  },
  {
   "cell_type": "code",
   "execution_count": null,
   "id": "15e899ba-4cd5-49b7-a829-dda3dc70abc5",
   "metadata": {},
   "outputs": [],
   "source": []
  }
 ],
 "metadata": {
  "kernelspec": {
   "display_name": "Python 3 (ipykernel)",
   "language": "python",
   "name": "python3"
  },
  "language_info": {
   "codemirror_mode": {
    "name": "ipython",
    "version": 3
   },
   "file_extension": ".py",
   "mimetype": "text/x-python",
   "name": "python",
   "nbconvert_exporter": "python",
   "pygments_lexer": "ipython3",
   "version": "3.10.10"
  }
 },
 "nbformat": 4,
 "nbformat_minor": 5
}
